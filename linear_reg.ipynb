{
  "nbformat": 4,
  "nbformat_minor": 0,
  "metadata": {
    "colab": {
      "name": "linear_reg.ipynb",
      "version": "0.3.2",
      "provenance": [],
      "include_colab_link": true
    },
    "kernelspec": {
      "name": "python3",
      "display_name": "Python 3"
    },
    "accelerator": "GPU"
  },
  "cells": [
    {
      "cell_type": "markdown",
      "metadata": {
        "id": "view-in-github",
        "colab_type": "text"
      },
      "source": [
        "<a href=\"https://colab.research.google.com/github/ektaarora3501/tensorflow/blob/master/linear_reg.ipynb\" target=\"_parent\"><img src=\"https://colab.research.google.com/assets/colab-badge.svg\" alt=\"Open In Colab\"/></a>"
      ]
    },
    {
      "cell_type": "code",
      "metadata": {
        "id": "QxxOzkRO9VKR",
        "colab_type": "code",
        "colab": {}
      },
      "source": [
        "!pip install tensorflow-gpu\n"
      ],
      "execution_count": 0,
      "outputs": []
    },
    {
      "cell_type": "code",
      "metadata": {
        "id": "EFn9pAL2-Ji9",
        "colab_type": "code",
        "colab": {}
      },
      "source": [
        "import tensorflow as tf\n",
        "import pandas as pd\n",
        "import matplotlib.pyplot as plt\n",
        "import numpy as np\n"
      ],
      "execution_count": 0,
      "outputs": []
    },
    {
      "cell_type": "markdown",
      "metadata": {
        "id": "7XYZYjVSuEbm",
        "colab_type": "text"
      },
      "source": [
        "importing basic files "
      ]
    },
    {
      "cell_type": "code",
      "metadata": {
        "id": "I0eNNYDv-c-d",
        "colab_type": "code",
        "colab": {}
      },
      "source": [
        "from google.colab import files\n",
        "uploaded=files.upload()\n"
      ],
      "execution_count": 0,
      "outputs": []
    },
    {
      "cell_type": "markdown",
      "metadata": {
        "id": "UiPMN_LeuKuK",
        "colab_type": "text"
      },
      "source": [
        "to import data file stored in local computer"
      ]
    },
    {
      "cell_type": "code",
      "metadata": {
        "id": "xLOVl42E-xbh",
        "colab_type": "code",
        "outputId": "ff30ca50-21c4-417b-d859-bfbba8ec1aff",
        "colab": {
          "base_uri": "https://localhost:8080/",
          "height": 475
        }
      },
      "source": [
        "import io\n",
        "df2=io.BytesIO(uploaded['kc_house_data.csv']) \n",
        "y_train=pd.read_csv(df2,nrows=7000,usecols=[2],skiprows=[0],header=None)  # importing y parameter from col 2  (price)\n",
        "x_train=pd.read_csv(df2,nrows=7000,usecols=[5],skiprows=[0],header=None)   # importing x parameter from col 5 (sqft living) \n",
        "plt.ylabel('price')\n",
        "plt.xlabel('sqft_living')\n",
        "plt.scatter(x_train,y_train)\n",
        "plt.show()\n",
        "print(x_train.head(),y_train.head())"
      ],
      "execution_count": 53,
      "outputs": [
        {
          "output_type": "display_data",
          "data": {
            "image/png": "[encoded data removed]",
            "text/plain": [
              "<Figure size 432x288 with 1 Axes>"
            ]
          },
          "metadata": {
            "tags": []
          }
        },
        {
          "output_type": "stream",
          "text": [
            "      5\n",
            "0  1250\n",
            "1  2040\n",
            "2  2140\n",
            "3  2510\n",
            "4  2200           2\n",
            "0  221900.0\n",
            "1  538000.0\n",
            "2  180000.0\n",
            "3  604000.0\n",
            "4  510000.0\n"
          ],
          "name": "stdout"
        }
      ]
    },
    {
      "cell_type": "code",
      "metadata": {
        "id": "bvNb2yJn_5Yb",
        "colab_type": "code",
        "outputId": "dbaf91d6-c436-48d3-cbfd-f573d95628e3",
        "colab": {
          "base_uri": "https://localhost:8080/",
          "height": 859
        }
      },
      "source": [
        "learning_rate=0.001\n",
        "X=tf.placeholder(tf.float32)  #declaring placeholders whose value will be feeded during session\n",
        "Y=tf.placeholder(tf.float32)\n",
        "\n",
        "def model(X,w):  \n",
        "  return tf.multiply(X,w)     #creating model function to return X*w\n",
        "\n",
        "w=tf.Variable(0.0,name=\"weight\")    #weight parameter\n",
        "y_model=model(X,w)      # y predicted value\n",
        "cost =tf.square(Y-y_model)   #declaring cost function\n",
        "\n",
        "train_op=tf.train.MomentumOptimizer(learning_rate,momentum=0.9).minimize(cost)  #usin momnetum optimizer to minimize cost with ,moment =0.9\n",
        "\n",
        "sess=tf.Session()   #declaring sessions \n",
        "init=tf.global_variables_initializer()   # initializing global variables\n",
        "sess.run(init)\n",
        "\n",
        "for i in range(0,7000):\n",
        "  for (x,y) in zip(x_train,y_train):\n",
        "    sess.run(train_op,feed_dict={X:x,Y:y})  #fedding placehoder values\n",
        "    \n",
        "w_val=(sess.run(w))   #the final weight of w calculated\n",
        "sess.close()\n",
        "print('w_value',w_val)\n",
        "plt.scatter(x_train,y_train)\n",
        "y_learned=x_train*w_val\n",
        "plt.plot(x_train,y_learned,'r')\n",
        "plt.show()\n",
        "print('y_train',y_train.head(n=10))\n",
        "print('x_train',x_train.head(n=10))\n",
        "print('y_learned',y_learned.head(n=10))\n",
        "\n",
        "\n"
      ],
      "execution_count": 54,
      "outputs": [
        {
          "output_type": "stream",
          "text": [
            "w_value 0.4\n"
          ],
          "name": "stdout"
        },
        {
          "output_type": "display_data",
          "data": {
            "image/png": "[encoded data removed]",
            "text/plain": [
              "<Figure size 432x288 with 1 Axes>"
            ]
          },
          "metadata": {
            "tags": []
          }
        },
        {
          "output_type": "stream",
          "text": [
            "y_train            2\n",
            "0   221900.0\n",
            "1   538000.0\n",
            "2   180000.0\n",
            "3   604000.0\n",
            "4   510000.0\n",
            "5  1225000.0\n",
            "6   257500.0\n",
            "7   291850.0\n",
            "8   229500.0\n",
            "9   323000.0\n",
            "x_train       5\n",
            "0  1250\n",
            "1  2040\n",
            "2  2140\n",
            "3  2510\n",
            "4  2200\n",
            "5  2170\n",
            "6  2980\n",
            "7  1180\n",
            "8  1540\n",
            "9  1540\n",
            "y_learned              5\n",
            "0   500.000007\n",
            "1   816.000012\n",
            "2   856.000013\n",
            "3  1004.000015\n",
            "4   880.000013\n",
            "5   868.000013\n",
            "6  1192.000018\n",
            "7   472.000007\n",
            "8   616.000009\n",
            "9   616.000009\n"
          ],
          "name": "stdout"
        }
      ]
    },
    {
      "cell_type": "code",
      "metadata": {
        "id": "C4cnzdQgsuXd",
        "colab_type": "code",
        "colab": {}
      },
      "source": [
        ""
      ],
      "execution_count": 0,
      "outputs": []
    }
  ]
}