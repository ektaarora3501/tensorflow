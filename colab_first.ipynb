{
  "nbformat": 4,
  "nbformat_minor": 0,
  "metadata": {
    "colab": {
      "name": "first.ipynb",
      "version": "0.3.2",
      "provenance": [],
      "include_colab_link": true
    },
    "kernelspec": {
      "name": "python3",
      "display_name": "Python 3"
    },
    "accelerator": "GPU"
  },
  "cells": [
    {
      "cell_type": "markdown",
      "metadata": {
        "id": "view-in-github",
        "colab_type": "text"
      },
      "source": [
        "<a href=\"https://colab.research.google.com/github/ektaarora3501/tensorflow/blob/master/colab_first.ipynb\" target=\"_parent\"><img src=\"https://colab.research.google.com/assets/colab-badge.svg\" alt=\"Open In Colab\"/></a>"
      ]
    },
    {
      "cell_type": "code",
      "metadata": {
        "id": "8VO6IxcRcX2L",
        "colab_type": "code",
        "colab": {}
      },
      "source": [
        "!pip install tensorflow-gpu\n"
      ],
      "execution_count": 0,
      "outputs": []
    },
    {
      "cell_type": "code",
      "metadata": {
        "id": "Dn_qQaQAkzrM",
        "colab_type": "code",
        "colab": {}
      },
      "source": [
        "import matplotlib.pyplot as plt\n",
        "import tensorflow as tf\n",
        "import numpy as np\n",
        "import pandas as pd"
      ],
      "execution_count": 0,
      "outputs": []
    },
    {
      "cell_type": "code",
      "metadata": {
        "id": "wY29mfDWmaU3",
        "colab_type": "code",
        "colab": {
          "base_uri": "https://localhost:8080/",
          "height": 269
        },
        "outputId": "bd8ee559-fc9a-4617-9369-a878b70f5a34"
      },
      "source": [
        "x_train=np.linspace(-1,1,101)\n",
        "y_train=2*x_train +np.random.randn(*x_train.shape)*0.33\n",
        "plt.scatter(x_train,y_train)\n",
        "plt.show()"
      ],
      "execution_count": 4,
      "outputs": [
        {
          "output_type": "display_data",
          "data": {
            "image/png": "[encoded data removed]",
            "text/plain": [
              "<Figure size 432x288 with 1 Axes>"
            ]
          },
          "metadata": {
            "tags": []
          }
        }
      ]
    },
    {
      "cell_type": "code",
      "metadata": {
        "id": "n0uz01nSmjDk",
        "colab_type": "code",
        "colab": {
          "base_uri": "https://localhost:8080/",
          "height": 269
        },
        "outputId": "6a62b4d4-4a61-4a93-a4aa-3d9a91b8982b"
      },
      "source": [
        "learning_rate=0.01\n",
        "\n",
        "X=tf.placeholder(tf.float32)\n",
        "Y=tf.placeholder(tf.float32)\n",
        "\n",
        "def model(X,w):\n",
        "  return tf.multiply(X,w)\n",
        "\n",
        "w=tf.Variable(0.0,name=\"weight\")\n",
        "y_model=model(X,w)\n",
        "cost=tf.square(Y-y_model)\n",
        "\n",
        "train_op=tf.train.GradientDescentOptimizer(learning_rate).minimize(cost)\n",
        "\n",
        "sess=tf.Session()\n",
        "init=tf.global_variables_initializer()\n",
        "sess.run(init)\n",
        "\n",
        "for i in range(0,100):\n",
        "  for (x,y) in zip(x_train,y_train):\n",
        "    sess.run(train_op,feed_dict={X:x,Y:y})\n",
        "    \n",
        "w_val=sess.run(w)\n",
        "sess.close()\n",
        "plt.scatter(x_train,y_train)\n",
        "y_learned=x_train*w_val\n",
        "plt.plot(x_train,y_learned,'r')\n",
        "plt.show()\n",
        "  "
      ],
      "execution_count": 5,
      "outputs": [
        {
          "output_type": "display_data",
          "data": {
            "image/png": "[encoded data removed]",
            "text/plain": [
              "<Figure size 432x288 with 1 Axes>"
            ]
          },
          "metadata": {
            "tags": []
          }
        }
      ]
    },
    {
      "cell_type": "code",
      "metadata": {
        "id": "gBbTx7zceRhz",
        "colab_type": "code",
        "colab": {}
      },
      "source": [
        ""
      ],
      "execution_count": 0,
      "outputs": []
    }
  ]
}