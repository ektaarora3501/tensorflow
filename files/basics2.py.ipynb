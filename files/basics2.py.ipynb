{
 "cells": [
  {
   "cell_type": "code",
   "execution_count": 2,
   "metadata": {},
   "outputs": [],
   "source": [
    "import tensorflow as tf\n",
    "import numpy as np"
   ]
  },
  {
   "cell_type": "code",
   "execution_count": 3,
   "metadata": {},
   "outputs": [
    {
     "name": "stdout",
     "output_type": "stream",
     "text": [
      "Tensor(\"Const:0\", shape=(2, 2), dtype=int32)\n"
     ]
    }
   ],
   "source": [
    "m1=tf.constant([[1,1],[1,2]])\n",
    "print(m1)\n",
    "m2=tf.negative(m1)"
   ]
  },
  {
   "cell_type": "code",
   "execution_count": 4,
   "metadata": {},
   "outputs": [
    {
     "name": "stdout",
     "output_type": "stream",
     "text": [
      "[[-1 -1]\n",
      " [-1 -2]]\n"
     ]
    }
   ],
   "source": [
    "with tf.Session() as sess:\n",
    "    result=m2.eval()\n",
    "print(result)    \n",
    "    "
   ]
  },
  {
   "cell_type": "code",
   "execution_count": 40,
   "metadata": {},
   "outputs": [],
   "source": [
    "# creating a raw data trail\n",
    "sess=tf.InteractiveSession()\n",
    "data=[1,3,-3,5,7,9]\n",
    "spikes=tf.Variable(False)\n",
    "spikes.initializer.run()"
   ]
  },
  {
   "cell_type": "code",
   "execution_count": 42,
   "metadata": {},
   "outputs": [
    {
     "name": "stdout",
     "output_type": "stream",
     "text": [
      "spike False\n",
      "spike False\n",
      "spike True\n",
      "spike True\n",
      "spike True\n"
     ]
    }
   ],
   "source": [
    "for i in range (1,len(data)):\n",
    "    if data[i]-data[i-1]>3:\n",
    "        updater=tf.assign(spikes,True)\n",
    "        updater.eval()\n",
    "    else:    \n",
    "        tf.assign(spikes,False)\n",
    "    print(\"spike\",spikes.eval())    "
   ]
  },
  {
   "cell_type": "code",
   "execution_count": 43,
   "metadata": {},
   "outputs": [],
   "source": [
    "sess=tf.InteractiveSession()\n",
    "data=[1,2,4,-1,9,8]\n",
    "spikes=tf.Variable([False]*len(data),name='spikes')\n",
    "spikes.initializer.run()\n",
    "\n",
    "saver=tf.train.Saver()\n"
   ]
  },
  {
   "cell_type": "code",
   "execution_count": 45,
   "metadata": {},
   "outputs": [],
   "source": [
    "for i in range(1,len(data)):\n",
    "    if data[i]-data[i-1]>3:\n",
    "        spikes_val=spikes.eval()\n",
    "        spikes_val[i]=True\n",
    "        updater=tf.assign(spikes,spikes_val)\n",
    "        updater.eval()\n",
    "\n",
    "#saver_path=saver.save(sess,\"spikes.ckpt\")\n",
    "sess.close()"
   ]
  },
  {
   "cell_type": "code",
   "execution_count": null,
   "metadata": {},
   "outputs": [],
   "source": []
  }
 ],
 "metadata": {
  "kernelspec": {
   "display_name": "Python 3",
   "language": "python",
   "name": "python3"
  },
  "language_info": {
   "codemirror_mode": {
    "name": "ipython",
    "version": 3
   },
   "file_extension": ".py",
   "mimetype": "text/x-python",
   "name": "python",
   "nbconvert_exporter": "python",
   "pygments_lexer": "ipython3",
   "version": "3.6.8"
  }
 },
 "nbformat": 4,
 "nbformat_minor": 2
}
